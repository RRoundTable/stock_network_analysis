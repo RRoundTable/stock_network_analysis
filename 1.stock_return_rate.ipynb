{
 "cells": [
  {
   "cell_type": "markdown",
   "metadata": {},
   "source": [
    "###1. calculate stock return rate & remove outlier"
   ]
  },
  {
   "cell_type": "code",
   "execution_count": null,
   "metadata": {},
   "outputs": [],
   "source": [
    "# timeSeries14~18까지 데이터 로드\n",
    "\n",
    "df14=pd.read_csv(\"timeSeries14_name.csv\")\n",
    "df15=pd.read_csv(\"timeSeries15_name.csv\")\n",
    "df16=pd.read_csv(\"timeSeries16_name.csv\")\n",
    "df17=pd.read_csv(\"timeSeries17_name.csv\")\n",
    "df18=pd.read_csv(\"timeSeries18_name.csv\")"
   ]
  },
  {
   "cell_type": "code",
   "execution_count": null,
   "metadata": {},
   "outputs": [],
   "source": [
    "# transfose data formation\n",
    "df14['month']=df14['date'].astype(\"str\").astype('datetime64').dt.month\n",
    "df14['year']=df14['date'].astype(\"str\").astype('datetime64').dt.year\n",
    "\n",
    "\n",
    "df15['month']=df15['date'].astype(\"str\").astype('datetime64').dt.month\n",
    "df15['year']=df15['date'].astype(\"str\").astype('datetime64').dt.year\n",
    "\n",
    "df16['month']=df16['date'].astype(\"str\").astype('datetime64').dt.month\n",
    "df16['year']=df16['date'].astype(\"str\").astype('datetime64').dt.year\n",
    "\n",
    "\n",
    "df17['month']=df17['date'].astype(\"str\").astype('datetime64').dt.month\n",
    "df17['year']=df17['date'].astype(\"str\").astype('datetime64').dt.year\n",
    "\n",
    "\n",
    "df18['month']=df18['date'].astype(\"str\").astype('datetime64').dt.month\n",
    "df18['year']=df18['date'].astype(\"str\").astype('datetime64').dt.year"
   ]
  },
  {
   "cell_type": "code",
   "execution_count": null,
   "metadata": {},
   "outputs": [],
   "source": [
    "# col_name = stock name\n",
    "# row = timeseries\n",
    "\n",
    "\n",
    "col_name=df14.columns \n",
    "\n",
    "df15=df15[col_name]\n",
    "df16=df16[col_name]\n",
    "df17=df17[col_name]\n",
    "df18=df18[col_name]\n",
    "\n",
    "# conncat\n",
    "df=pd.concat([df14,df15,df16,df17,df18])"
   ]
  },
  {
   "cell_type": "code",
   "execution_count": null,
   "metadata": {},
   "outputs": [],
   "source": [
    "# extract stock name \n",
    "stock_name=df.columns[1:-2]\n",
    "\n",
    "# calcuate daily rate\n",
    "rate=df[stock_name].pct_change()"
   ]
  },
  {
   "cell_type": "code",
   "execution_count": null,
   "metadata": {},
   "outputs": [],
   "source": [
    "# date return rate > 5 :  outlier (stock split issue)\n",
    "# to do : Revised share price\n",
    "outlier=[]\n",
    "for i in rate.columns: # i = stock name\n",
    "    for j in range(rate.shape[0]):\n",
    "        if np.abs(rate[i].iloc[j])>5: # date return rate >5\n",
    "            outlier.append(i)"
   ]
  },
  {
   "cell_type": "code",
   "execution_count": null,
   "metadata": {},
   "outputs": [],
   "source": [
    "# remove outlier\n",
    "tmp=list(df.columns[1:])\n",
    "for i in outlier:\n",
    "    tmp.remove(i)\n",
    "print(len(tmp)) # 1564 개 43개의 종목 제거\n",
    "print(tmp)\n"
   ]
  },
  {
   "cell_type": "code",
   "execution_count": null,
   "metadata": {},
   "outputs": [],
   "source": [
    "# example : '코웨이' monthly average end-price\n",
    "result=df[['year','month','코웨이']].groupby(['year','month']).mean()\n"
   ]
  },
  {
   "cell_type": "code",
   "execution_count": null,
   "metadata": {},
   "outputs": [],
   "source": [
    "# 모든 stock 한달 평균 종가 구하기\n",
    "for name in stock_name[:-1]:\n",
    "    print(name)\n",
    "    tmp=df[['year','month',name]].groupby(['year','month']).mean()\n",
    "    result=result.merge(tmp, how='inner', left_on=['year','month'], right_on=['year','month'])\n",
    "\n",
    "    \n",
    "result=result.drop(columns=['코웨이_y'])\n",
    "result=result.rename(columns={'코웨이_x':'코웨이'})"
   ]
  },
  {
   "cell_type": "code",
   "execution_count": null,
   "metadata": {},
   "outputs": [],
   "source": [
    "# save\n",
    "result.to_csv(\"./result/avg_price_month_delOutlier.csv\")"
   ]
  }
 ],
 "metadata": {
  "kernelspec": {
   "display_name": "Python 3",
   "language": "python",
   "name": "python3"
  },
  "language_info": {
   "codemirror_mode": {
    "name": "ipython",
    "version": 3
   },
   "file_extension": ".py",
   "mimetype": "text/x-python",
   "name": "python",
   "nbconvert_exporter": "python",
   "pygments_lexer": "ipython3",
   "version": "3.6.5"
  }
 },
 "nbformat": 4,
 "nbformat_minor": 2
}
