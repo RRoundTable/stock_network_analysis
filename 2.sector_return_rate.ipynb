{
 "cells": [
  {
   "cell_type": "markdown",
   "metadata": {},
   "source": [
    "### 2. calculate sector return rate"
   ]
  },
  {
   "cell_type": "code",
   "execution_count": null,
   "metadata": {},
   "outputs": [],
   "source": [
    "# returnsector.csv : KRX sector data + return 1418 \n",
    "df=pd.read_csv(\"returnSector.csv\") \n",
    "df.to_csv(\"returnSector.csv\",encoding='utf-8-sig')"
   ]
  },
  {
   "cell_type": "code",
   "execution_count": null,
   "metadata": {},
   "outputs": [],
   "source": [
    "# remove stock name which is not in KRX dataset\n",
    "delName=[]\n",
    "for name in df['기업명']:\n",
    "    if name in outlier:\n",
    "        print(name)\n",
    "        delName.append(name) # 34개"
   ]
  },
  {
   "cell_type": "code",
   "execution_count": null,
   "metadata": {},
   "outputs": [],
   "source": [
    "tmp=list(df['기업명'])\n",
    "\n",
    "for i in delName:\n",
    "    if i in tmp:\n",
    "        tmp.remove(i)\n",
    "        \n",
    "        \n",
    "print(\"numbers of removed stock name\",len(tmp)-len((df['기업명'])))"
   ]
  },
  {
   "cell_type": "code",
   "execution_count": null,
   "metadata": {},
   "outputs": [],
   "source": [
    "# extract index to be removed\n",
    "indexdel=[]\n",
    "for i in delName:\n",
    "   \n",
    "    #print(df[df['기업명']==i].index[0])\n",
    "    indexdel.append(df[df['기업명']==i].index[0])\n",
    "    \n",
    "print(df.drop(indexdel))\n",
    "\n",
    "# remove\n",
    "df=df.drop(indexdel)"
   ]
  },
  {
   "cell_type": "code",
   "execution_count": null,
   "metadata": {},
   "outputs": [],
   "source": [
    "# check number of sector\n",
    "len(df['업종'].unique()) # 140 sector"
   ]
  },
  {
   "cell_type": "code",
   "execution_count": null,
   "metadata": {},
   "outputs": [],
   "source": [
    "# 2014년 1월 데이터 nan 값 제거(1로 처리하였음)\n",
    "# 필요없는 columns 제거\n",
    "sector=sector.drop(columns=['종목코드','0','업종코드','Unnamed: 0','Unnamed: 0.1','Unnamed: 0.1.1','Unnamed: 0.1.1.1','Unnamed: 0.1.1.1.1','Unnamed: 0.1.1.1.1.1'])\n"
   ]
  },
  {
   "cell_type": "code",
   "execution_count": null,
   "metadata": {},
   "outputs": [],
   "source": [
    "# sector return rate\n",
    "sector.to_csv(\"Sector_return_outlier.csv\",encoding='utf-8-sig')"
   ]
  },
  {
   "cell_type": "code",
   "execution_count": null,
   "metadata": {},
   "outputs": [],
   "source": [
    "sector=sector.drop(columns=['Unnamed: 0.1.1'])"
   ]
  },
  {
   "cell_type": "code",
   "execution_count": null,
   "metadata": {},
   "outputs": [],
   "source": [
    "# calculate correlation among sectors\n",
    "sector_corr=sector.T.corr()"
   ]
  },
  {
   "cell_type": "code",
   "execution_count": null,
   "metadata": {},
   "outputs": [],
   "source": [
    "# heatmap \n",
    "import seaborn as sns\n",
    "import matplotlib.pyplot as plt\n",
    "plt.figure(figsize=(10, 10))\n",
    "sns.heatmap(sector_corr)"
   ]
  },
  {
   "cell_type": "code",
   "execution_count": null,
   "metadata": {},
   "outputs": [],
   "source": [
    "# sector : corr >0.7 \n",
    "sns.heatmap(sector_corr[sector_corr>0.7].loc[sector_corr[sector_corr>0.7].columns])"
   ]
  }
 ],
 "metadata": {
  "kernelspec": {
   "display_name": "Python 3",
   "language": "python",
   "name": "python3"
  },
  "language_info": {
   "codemirror_mode": {
    "name": "ipython",
    "version": 3
   },
   "file_extension": ".py",
   "mimetype": "text/x-python",
   "name": "python",
   "nbconvert_exporter": "python",
   "pygments_lexer": "ipython3",
   "version": "3.6.5"
  }
 },
 "nbformat": 4,
 "nbformat_minor": 2
}
