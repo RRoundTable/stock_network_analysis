{
 "cells": [
  {
   "cell_type": "markdown",
   "metadata": {},
   "source": [
    "### 3. calculate sector correlation"
   ]
  },
  {
   "cell_type": "code",
   "execution_count": null,
   "metadata": {},
   "outputs": [],
   "source": [
    "from scipy.stats import pearsonr\n",
    "dataset=sector.T\n",
    "index=dataset.columns # 업종이름\n",
    "index"
   ]
  },
  {
   "cell_type": "code",
   "execution_count": null,
   "metadata": {},
   "outputs": [],
   "source": [
    "table=[]\n",
    "\n",
    "# 0.7이상의 상관관계를 가지는 업종짝 구하기\n",
    "for i in range(len(index)):\n",
    "    for j in range(len(index)):\n",
    "        if (pearsonr(dataset[index[i]],dataset[index[j]])[0]>0.7)&(pearsonr(dataset[index[i]],dataset[index[j]])[1]<0.05)&(pearsonr(dataset[index[i]],dataset[index[j]])[0]!=1):\n",
    "            # 상관계수가 0.75이고 p_value가 0.05보다 작은 것 고르기\n",
    "            table.append((index[i],index[j],pearsonr(dataset[index[i]],dataset[index[j]])[0],pearsonr(dataset[index[i]],dataset[index[j]])[1]))\n",
    "            print(index[i],index[j],pearsonr(dataset[index[i]],dataset[index[j]])[0])"
   ]
  },
  {
   "cell_type": "code",
   "execution_count": null,
   "metadata": {},
   "outputs": [],
   "source": [
    "table=pd.DataFrame(table)\n",
    "table.columns=['sector1','sector2','corr','p_value']\n",
    "\n",
    "# save\n",
    "table.to_csv(\"corrTable7_outlier.csv\",encoding='utf-8-sig') "
   ]
  },
  {
   "cell_type": "code",
   "execution_count": null,
   "metadata": {},
   "outputs": [],
   "source": []
  },
  {
   "cell_type": "code",
   "execution_count": null,
   "metadata": {},
   "outputs": [],
   "source": [
    "# stock \n",
    "stock=pd.read_csv(\"returnSector.csv\")"
   ]
  },
  {
   "cell_type": "code",
   "execution_count": null,
   "metadata": {},
   "outputs": [],
   "source": [
    "# index를 기업명으로 바꾸기\n",
    "stock.index=stock['기업명']"
   ]
  },
  {
   "cell_type": "code",
   "execution_count": null,
   "metadata": {},
   "outputs": [],
   "source": [
    "# 업종별로 추출하기\n",
    "stock=stock.drop(columns=['Unnamed: 0','0','업종코드','기업명','종목코드'])"
   ]
  },
  {
   "cell_type": "code",
   "execution_count": null,
   "metadata": {},
   "outputs": [],
   "source": [
    "stock=stock.drop(columns=['name'])"
   ]
  },
  {
   "cell_type": "code",
   "execution_count": null,
   "metadata": {},
   "outputs": [],
   "source": [
    "# 0.7이상의 상관관계를 가지는 모든 업종의 각 종목 상관관계 구하기\n",
    "index=table['sector1'].unique() # index는 sector부분\n",
    "table=[]"
   ]
  },
  {
   "cell_type": "code",
   "execution_count": null,
   "metadata": {},
   "outputs": [],
   "source": [
    "for i in range(len(index)):\n",
    "    stock_name=stock[stock['업종']==index[i]].index\n",
    "    for j in range(len(stock_name)):\n",
    "        if (pearsonr(dataset[index[i]],stock.loc[stock_name[j]].T.iloc[:-1])[1]<0.05)&(pearsonr(dataset[index[i]],stock.loc[stock_name[j]].T.iloc[:-1])[0]!=1):\n",
    "            # 상관계수가 0.75이고 p_value가 0.05보다 작은 것 고르기\n",
    "            table.append((index[i],stock_name[j],pearsonr(dataset[index[i]],stock.loc[stock_name[j]].T.iloc[:-1])[0],pearsonr(dataset[index[i]],stock.loc[stock_name[j]].T.iloc[:-1])[1]))\n",
    "            \n",
    "            print(index[i],stock_name[j],pearsonr(dataset[index[i]],stock.loc[stock_name[j]].T.iloc[:-1])[0])"
   ]
  },
  {
   "cell_type": "code",
   "execution_count": null,
   "metadata": {},
   "outputs": [],
   "source": [
    "stock_sector=pd.DataFrame(table)\n",
    "stock_sector.columns=['sector','stock','corr','p_value']\n",
    "stock_sector.to_csv(\"해당업종전체종목상관관계_이상치.csv\",encoding='utf-8-sig')"
   ]
  }
 ],
 "metadata": {
  "kernelspec": {
   "display_name": "Python 3",
   "language": "python",
   "name": "python3"
  },
  "language_info": {
   "codemirror_mode": {
    "name": "ipython",
    "version": 3
   },
   "file_extension": ".py",
   "mimetype": "text/x-python",
   "name": "python",
   "nbconvert_exporter": "python",
   "pygments_lexer": "ipython3",
   "version": "3.6.5"
  }
 },
 "nbformat": 4,
 "nbformat_minor": 2
}
