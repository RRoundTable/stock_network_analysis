{
 "cells": [
  {
   "cell_type": "markdown",
   "metadata": {},
   "source": [
    "### 4. draw sector network"
   ]
  },
  {
   "cell_type": "code",
   "execution_count": null,
   "metadata": {},
   "outputs": [],
   "source": [
    "# import module\n",
    "import pandas as pd \n",
    "import numpy as np\n",
    "import collections\n",
    "\n",
    "import networkx as nx\n",
    "import seaborn as sb\n",
    "import matplotlib.pylab as plt\n",
    "from pylab import rcParams\n",
    "\n",
    "from scipy.stats import pearsonr"
   ]
  },
  {
   "cell_type": "code",
   "execution_count": null,
   "metadata": {},
   "outputs": [],
   "source": [
    "# read correlation file\n",
    "sector=pd.read_csv(\"corrTable7_outlier.csv\")\n",
    "stock_sec=pd.read_csv(\"stock_sector_corr_outlier.csv\")"
   ]
  },
  {
   "cell_type": "code",
   "execution_count": null,
   "metadata": {},
   "outputs": [],
   "source": [
    "sector=sector.drop(columns=['Unnamed: 0'])\n",
    "stock_sec=stock_sec.drop(columns=['Unnamed: 0'])"
   ]
  },
  {
   "cell_type": "code",
   "execution_count": null,
   "metadata": {},
   "outputs": [],
   "source": [
    "sector.columns=['sector1','sector2','corr','p-value']"
   ]
  },
  {
   "cell_type": "code",
   "execution_count": null,
   "metadata": {},
   "outputs": [],
   "source": [
    "sec_net=nx.Graph()"
   ]
  },
  {
   "cell_type": "code",
   "execution_count": null,
   "metadata": {},
   "outputs": [],
   "source": [
    "from matplotlib import font_manager, rc\n",
    "font_name = font_manager.FontProperties(fname=\"c:/Windows/Fonts/malgun.ttf\").get_name()\n",
    "rc('font', family=font_name)"
   ]
  },
  {
   "cell_type": "code",
   "execution_count": null,
   "metadata": {},
   "outputs": [],
   "source": [
    "# 업종간 네트워크 \n",
    "# lable 새로 쓰기\n",
    "plt.rc('font', family='AppleGothic')\n",
    "for i in sector['sector1']:\n",
    "    sec_net.add_node(i)\n",
    "    \n",
    "nx.draw(sec_net,with_labels = True, font_family='AppleGothic')\n",
    "plt.show()\n",
    "\n",
    "\n",
    "len(sec_net.node) # 36 중복없음\n",
    "print(sec_net.degree) # 몇 개 연결되어있는지\n",
    "\n",
    "\n",
    "for (i,j,corr) in np.array(sector[['sector1','sector2','corr']]):\n",
    "    sec_net.add_edge(i,j,weight=1/corr*0.1,label=round(corr,4))# 길이 어떻게 늘리는지\n",
    "        # weight가 적을수록 멀어짐\n",
    "    \n",
    "plt.figure(figsize=(15,15))\n",
    "\n",
    "edge_labels =dict([((u, v), d['label']) \n",
    "                   for u, v, d in sec_net.edges(data=True)])\n",
    "pos = nx.spring_layout(sec_net) \n",
    "#nx.draw_networkx_edges(sec_net,pos,edgelist=edge_labels)\n",
    "#nx.draw_networkx_edge_labels(sec_net, pos, edge_labels= edge_labels)\n",
    "nx.draw(sec_net,pos,with_labels = True, node_size=200,width=6,alpha=0.5,font_family=font_name)\n",
    "nx.draw_networkx_edge_labels(sec_net,pos, edge_labels= edge_labels)\n",
    "\n",
    "plt.show()"
   ]
  },
  {
   "cell_type": "markdown",
   "metadata": {},
   "source": [
    "### 5. draw sector_stock network"
   ]
  },
  {
   "cell_type": "code",
   "execution_count": null,
   "metadata": {},
   "outputs": [],
   "source": [
    "# data loda\n",
    "\n",
    "sector=pd.read_csv(\"corrTable7_outlier.csv\")\n",
    "stock_sec=pd.read_csv(\"stock_sector_corr_outlier.csv\")\n",
    "sector=sector.drop(columns=['Unnamed: 0'])\n",
    "stock_sec=stock_sec.drop(columns=['Unnamed: 0'])\n",
    "sector.columns=['sector1','sector2','corr','p-value']\n",
    "\n",
    "sector['corr']=sector['corr']"
   ]
  },
  {
   "cell_type": "code",
   "execution_count": null,
   "metadata": {},
   "outputs": [],
   "source": [
    "# graph 선언\n",
    "sec_net=nx.Graph()\n"
   ]
  },
  {
   "cell_type": "code",
   "execution_count": null,
   "metadata": {},
   "outputs": [],
   "source": [
    "# 상관관계를 반영하여 edge 생성\n",
    "sec_edge=np.array(sector[['sector1','sector2',\"corr\"]])\n",
    "sec_net.add_weighted_edges_from(sec_edge)"
   ]
  },
  {
   "cell_type": "code",
   "execution_count": null,
   "metadata": {},
   "outputs": [],
   "source": [
    "nx.draw(sec_net, node_size=10)"
   ]
  },
  {
   "cell_type": "code",
   "execution_count": null,
   "metadata": {},
   "outputs": [],
   "source": [
    "# dictionary sector :1 ,stock :0\n",
    "\n",
    "b={}\n",
    "for i in sector['sector1'].unique():\n",
    "    b[i]=1\n",
    "    \n",
    "sec_val=b\n",
    "\n",
    "stock_val={}\n",
    "for i in stock_sec['stock'].unique():\n",
    "    stock_val[i]=0"
   ]
  },
  {
   "cell_type": "code",
   "execution_count": null,
   "metadata": {},
   "outputs": [],
   "source": [
    "# blue: stock /red : sector\n",
    "blue_edges=np.array(stock_sec[['sector','stock']])\n",
    "red_edges=np.array(sector[['sector1','sector2']])"
   ]
  },
  {
   "cell_type": "code",
   "execution_count": null,
   "metadata": {},
   "outputs": [],
   "source": [
    "stock_sec[['sector','stock']]\n",
    "\n",
    "tuples=[tuple(x) for x in stock_sec[['sector','stock']].values]\n",
    "\n",
    "blue_edges=tuples"
   ]
  },
  {
   "cell_type": "code",
   "execution_count": null,
   "metadata": {},
   "outputs": [],
   "source": [
    "edge_colours = ['red' if not edge in blue_edges else 'blue'\n",
    "                for edge in sec_net.edges()]"
   ]
  },
  {
   "cell_type": "code",
   "execution_count": null,
   "metadata": {},
   "outputs": [],
   "source": [
    "plt.figure(figsize=(15,15))\n",
    "nx.draw_networkx_nodes(sec_net, pos, cmap=plt.get_cmap('jet'), \n",
    "                       node_color =values , node_size = 70)\n",
    "\n",
    "nx.draw_networkx_labels(sec_net, pos, font_size=8, font_family=font_name)\n",
    "nx.draw_networkx_edges(sec_net, pos, edgelist=blue_edges,edge_color='b')\n",
    "nx.draw_networkx_edges(sec_net, pos, edgelist=red_edges)"
   ]
  },
  {
   "cell_type": "code",
   "execution_count": null,
   "metadata": {},
   "outputs": [],
   "source": []
  },
  {
   "cell_type": "code",
   "execution_count": null,
   "metadata": {},
   "outputs": [],
   "source": []
  },
  {
   "cell_type": "code",
   "execution_count": null,
   "metadata": {},
   "outputs": [],
   "source": []
  }
 ],
 "metadata": {
  "kernelspec": {
   "display_name": "Python 3",
   "language": "python",
   "name": "python3"
  },
  "language_info": {
   "codemirror_mode": {
    "name": "ipython",
    "version": 3
   },
   "file_extension": ".py",
   "mimetype": "text/x-python",
   "name": "python",
   "nbconvert_exporter": "python",
   "pygments_lexer": "ipython3",
   "version": "3.6.5"
  }
 },
 "nbformat": 4,
 "nbformat_minor": 2
}
